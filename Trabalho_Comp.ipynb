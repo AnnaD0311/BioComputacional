{
 "cells": [
  {
   "cell_type": "markdown",
   "id": "026289a1",
   "metadata": {},
   "source": [
    "# Análise de Serinas Fosforiláveis em *S. cerevisiae*"
   ]
  },
  {
   "cell_type": "code",
   "execution_count": null,
   "id": "a7608723",
   "metadata": {},
   "outputs": [],
   "source": [
    "import pandas as pd\n",
    "import numpy as np\n",
    "import matplotlib.pyplot as plt\n",
    "import seaborn as sns\n",
    "\n",
    "sns.set(style=\"whitegrid\", context=\"talk\")"
   ]
  },
  {
   "cell_type": "code",
   "execution_count": null,
   "id": "1b98b107",
   "metadata": {},
   "outputs": [],
   "source": [
    "features = pd.read_csv(\"uniprotkb_s_cerevisiae.gff\", sep='\\t', comment='#', header=None, low_memory=False)\n",
    "features.columns = ['Entry', 'source', 'type', 'start', 'end', 'score', 'strand', 'phase', 'attributes', 'extra']\n",
    "\n",
    "seq_df = pd.read_csv(\"uniprotkb_s_cerevisiae.tsv\", sep=\"\\t\", usecols=[\"Entry\", \"Sequence\"])"
   ]
  },
  {
   "cell_type": "code",
   "execution_count": null,
   "id": "40001dd6",
   "metadata": {},
   "outputs": [],
   "source": [
    "def filtrar_fosfoserinas(features):\n",
    "    fosfo = features[\n",
    "        (features[\"type\"] == \"Modified residue\") &\n",
    "        (features[\"attributes\"].str.contains(\"Phosphoserine\", case=False, na=False))\n",
    "    ]\n",
    "    fosfo_dict = {}\n",
    "    for _, row in fosfo.iterrows():\n",
    "        entry = row[\"Entry\"]\n",
    "        pos = int(row[\"start\"])\n",
    "        fosfo_dict.setdefault(entry, set()).add(pos)\n",
    "    return fosfo_dict\n",
    "\n",
    "fosfo_dict = filtrar_fosfoserinas(features)"
   ]
  },
  {
   "cell_type": "code",
   "execution_count": null,
   "id": "90b9d25f",
   "metadata": {},
   "outputs": [],
   "source": [
    "def extrair_serinas(seq_df, fosfo_dict):\n",
    "    records = []\n",
    "    for _, row in seq_df.iterrows():\n",
    "        entry = row[\"Entry\"]\n",
    "        seq = row[\"Sequence\"]\n",
    "        fosfo_pos = fosfo_dict.get(entry, set())\n",
    "        for i, aa in enumerate(seq):\n",
    "            if aa == 'S':\n",
    "                pos_1based = i + 1\n",
    "                known_P = pos_1based in fosfo_pos\n",
    "                window = [seq[i + offset] if 0 <= i + offset < len(seq) else 'X' for offset in range(-10, 11)]\n",
    "                records.append([entry, pos_1based, known_P] + window)\n",
    "    return records\n",
    "\n",
    "records = extrair_serinas(seq_df, fosfo_dict)"
   ]
  },
  {
   "cell_type": "code",
   "execution_count": null,
   "id": "69ba1618",
   "metadata": {},
   "outputs": [],
   "source": [
    "def construir_dataframe(records):\n",
    "    columns = [\"entry\", \"pos\", \"known P\"] + [str(i) for i in range(-10, 11)]\n",
    "    return pd.DataFrame(records, columns=columns)\n",
    "\n",
    "df_serinas = construir_dataframe(records)"
   ]
  },
  {
   "cell_type": "code",
   "execution_count": null,
   "id": "aa08ad85",
   "metadata": {},
   "outputs": [],
   "source": [
    "df_knownP = df_serinas[df_serinas[\"known P\"] == True]\n",
    "df_notP = df_serinas[df_serinas[\"known P\"] == False]"
   ]
  },
  {
   "cell_type": "code",
   "execution_count": null,
   "id": "4e0b47ac",
   "metadata": {},
   "outputs": [],
   "source": [
    "def calcular_log2_frequencias(df):\n",
    "    posicoes = [str(i) for i in range(-10, 11) if i != 0]\n",
    "    aminoacidos = list(\"ACDEFGHIKLMNPQRSTVWY\")\n",
    "\n",
    "    aa_counts_global = pd.Series(0, index=aminoacidos, dtype=int)\n",
    "    for pos in posicoes:\n",
    "        aa_counts_global += df[pos].value_counts().reindex(aminoacidos, fill_value=0)\n",
    "\n",
    "    total_global = aa_counts_global.sum()\n",
    "    f_global = aa_counts_global / total_global\n",
    "\n",
    "    log2_matrix = pd.DataFrame(index=aminoacidos, columns=posicoes, dtype=float)\n",
    "    for pos in posicoes:\n",
    "        counts = df[pos].value_counts().reindex(aminoacidos, fill_value=0)\n",
    "        f_pos = counts / counts.sum()\n",
    "        log2_matrix[pos] = np.log2(f_pos / f_global)\n",
    "\n",
    "    return log2_matrix\n",
    "\n",
    "log2_knownP = calcular_log2_frequencias(df_knownP)\n",
    "log2_notP = calcular_log2_frequencias(df_notP)"
   ]
  },
  {
   "cell_type": "code",
   "execution_count": null,
   "id": "fbd0f02d",
   "metadata": {},
   "outputs": [],
   "source": [
    "plt.figure(figsize=(20, 8))\n",
    "sns.heatmap(log2_knownP, cmap=\"seismic\", center=0, cbar_kws={\"label\": \"log₂(f / f_global)\"})\n",
    "plt.title(\"Serinas Fosforiláveis - log₂(f / f_global)\")\n",
    "plt.xlabel(\"Posição relativa à Serina\")\n",
    "plt.ylabel(\"Aminoácido\")\n",
    "plt.show()"
   ]
  },
  {
   "cell_type": "code",
   "execution_count": null,
   "id": "1244b47b",
   "metadata": {},
   "outputs": [],
   "source": [
    "plt.figure(figsize=(20, 8))\n",
    "sns.heatmap(log2_notP, cmap=\"seismic\", center=0, cbar_kws={\"label\": \"log₂(f / f_global)\"})\n",
    "plt.title(\"Serinas Não Fosforiláveis - log₂(f / f_global)\")\n",
    "plt.xlabel(\"Posição relativa à Serina\")\n",
    "plt.ylabel(\"Aminoácido\")\n",
    "plt.show()"
   ]
  },
  {
   "cell_type": "code",
   "execution_count": null,
   "id": "80404193",
   "metadata": {},
   "outputs": [],
   "source": [
    "\n",
    "import matplotlib.pyplot as plt\n",
    "import seaborn as sns\n",
    "\n",
    "def plotar_heatmap(df_log2, titulo):\n",
    "    plt.figure(figsize=(14, 7))\n",
    "    sns.heatmap(\n",
    "        df_log2,\n",
    "        cmap=\"seismic\",\n",
    "        center=0,\n",
    "        vmin=-3,\n",
    "        vmax=3,\n",
    "        annot=True,\n",
    "        fmt=\".2f\",\n",
    "        linewidths=0.1,\n",
    "        cbar_kws={'label': 'log₂(f / f_global)'}\n",
    "    )\n",
    "    plt.title(titulo, fontsize=14)\n",
    "    plt.xlabel(\"Posição relativa à Serina\")\n",
    "    plt.ylabel(\"Aminoácido\")\n",
    "    plt.tight_layout()\n",
    "    plt.show()\n",
    "\n",
    "# Plot para serinas fosforiláveis\n",
    "plotar_heatmap(log2_knownP, \"Serinas Fosforiláveis - log₂(f / f_global)\")\n",
    "\n",
    "# Plot para serinas não fosforiláveis\n",
    "plotar_heatmap(log2_notP, \"Serinas Não Fosforiláveis - log₂(f / f_global)\")\n"
   ]
  }
 ],
 "metadata": {
  "kernelspec": {
   "display_name": "Python 3",
   "language": "python",
   "name": "python3"
  },
  "language_info": {
   "name": "python",
   "version": ""
  }
 },
 "nbformat": 4,
 "nbformat_minor": 5
}
